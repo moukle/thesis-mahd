{
 "cells": [
  {
   "cell_type": "code",
   "execution_count": 1,
   "metadata": {},
   "outputs": [],
   "source": [
    "import pickle\n",
    "import math\n",
    "from collections import defaultdict \n",
    "import matplotlib.pyplot as plt"
   ]
  },
  {
   "cell_type": "code",
   "execution_count": 2,
   "metadata": {},
   "outputs": [],
   "source": [
    "predicted_bbs = {}\n",
    "\n",
    "with open('../output/predictions.pickle', 'rb') as handle:\n",
    "    predicted_bbs = pickle.load(handle)"
   ]
  },
  {
   "cell_type": "code",
   "execution_count": 3,
   "metadata": {},
   "outputs": [],
   "source": [
    "threshold = 0.81\n",
    "max_dist = 600\n",
    "\n",
    "def distance(p1, p2):\n",
    "    x1,y1 = p1\n",
    "    x2,y2 = p2\n",
    "    return math.sqrt((x1-x2)**2 + (y1-y2)**2)\n",
    "\n",
    "for seq_name in predicted_bbs.keys():\n",
    "    found_points_pred = {}\n",
    "    \n",
    "    for image, predictions in predicted_bbs['00_day-fog'].items():\n",
    "        for pred in predictions:\n",
    "            x,y,x2,y2,pred = pred \n",
    "            if pred > threshold:\n",
    "                center = int(x + (x2-x)/2), int(y + (y2-y)/2)\n",
    "                \n",
    "                already_seen = False\n",
    "                for seen in found_points_pred.values():\n",
    "                    #print(seen)\n",
    "                    d = distance(seen[-1], center)\n",
    "                    \n",
    "                    if d > max_dist:\n",
    "                        continue\n",
    "                    already_seen = True\n",
    "                    found_points_pred[seen[0]].append(center)\n",
    "                    break\n",
    "                \n",
    "                if not already_seen:\n",
    "                    found_points_pred[center] = [center]\n",
    "    break"
   ]
  },
  {
   "cell_type": "code",
   "execution_count": 4,
   "metadata": {},
   "outputs": [],
   "source": [
    "max_dist = 600\n",
    "\n",
    "with open('../output/gt_bbs.pickle', 'rb') as handle:\n",
    "    gt_bbs = pickle.load(handle)\n",
    "\n",
    "for seq_name in gt_bbs.keys():\n",
    "    found_points_gt = {}\n",
    "    \n",
    "    for image, gts in gt_bbs['00_day-orig'].items():\n",
    "        for gt in gts:\n",
    "            x,y,x2,y2,pred = gt\n",
    "            \n",
    "            center = int(x + (x2-x)/2), int(y + (y2-y)/2)\n",
    "\n",
    "            already_seen = False\n",
    "            for seen in found_points_gt.values():\n",
    "                #print(seen)\n",
    "                d = distance(seen[-1], center)\n",
    "\n",
    "                if d > max_dist:\n",
    "                    continue\n",
    "                already_seen = True\n",
    "                found_points_gt[seen[0]].append(center)\n",
    "                break\n",
    "\n",
    "            if not already_seen:\n",
    "                found_points_gt[center] = [center]\n",
    "    break"
   ]
  },
  {
   "cell_type": "code",
   "execution_count": 20,
   "metadata": {},
   "outputs": [
    {
     "data": {
      "image/png": "[encoded data removed]",
      "text/plain": [
       "<Figure size 432x288 with 1 Axes>"
      ]
     },
     "metadata": {
      "needs_background": "light"
     },
     "output_type": "display_data"
    },
    {
     "data": {
      "text/plain": [
       "59"
      ]
     },
     "execution_count": 20,
     "metadata": {},
     "output_type": "execute_result"
    }
   ],
   "source": [
    "fig, ax = plt.subplots()\n",
    "ax.set_ylim(2500, 0)  # decreasing time\n",
    "ax.set_xlim(0, 4500)  # decreasing time\n",
    "t = 0\n",
    "ts = 0\n",
    "\n",
    "plt.axis('off')\n",
    "\n",
    "for k,v in found_points_pred.items():  \n",
    "    xs = [x[0] for x in v]\n",
    "    ys = [y[1] for y in v]\n",
    "    plt.scatter(xs,ys,label=f'({len(xs)})',alpha=0.8)\n",
    "    plt.legend()\n",
    "    t+=1\n",
    "    ts+=len(xs)\n",
    "plt.savefig(\"../visuals/predicted_path.png\", dpi=300)\n",
    "plt.show()\n",
    "ts"
   ]
  },
  {
   "cell_type": "code",
   "execution_count": 18,
   "metadata": {},
   "outputs": [
    {
     "data": {
      "image/png": "[encoded data removed]",
      "text/plain": [
       "<Figure size 432x288 with 1 Axes>"
      ]
     },
     "metadata": {
      "needs_background": "light"
     },
     "output_type": "display_data"
    },
    {
     "data": {
      "text/plain": [
       "98"
      ]
     },
     "execution_count": 18,
     "metadata": {},
     "output_type": "execute_result"
    }
   ],
   "source": [
    "fig, ax = plt.subplots()\n",
    "ax.set_ylim(2500, -100)  # decreasing time\n",
    "ax.set_xlim(-100, 4500)  # decreasing time\n",
    "t = 0\n",
    "ts = 0\n",
    "\n",
    "plt.axis('off')\n",
    "\n",
    "for k,v in found_points_gt.items():\n",
    "    xs = [x[0] for x in v]\n",
    "    ys = [y[1] for y in v]\n",
    "    plt.scatter(xs,ys,label=f'{t} ({len(xs)})',alpha=0.8)\n",
    "    plt.legend()\n",
    "    t+=1\n",
    "    ts+=len(xs)\n",
    "plt.savefig(\"../visuals/gt_path.png\", dpi=300)\n",
    "plt.show()\n",
    "ts"
   ]
  },
  {
   "cell_type": "code",
   "execution_count": null,
   "metadata": {},
   "outputs": [],
   "source": []
  },
  {
   "cell_type": "code",
   "execution_count": null,
   "metadata": {},
   "outputs": [],
   "source": []
  }
 ],
 "metadata": {
  "kernelspec": {
   "display_name": "Python 3",
   "language": "python",
   "name": "python3"
  },
  "language_info": {
   "codemirror_mode": {
    "name": "ipython",
    "version": 3
   },
   "file_extension": ".py",
   "mimetype": "text/x-python",
   "name": "python",
   "nbconvert_exporter": "python",
   "pygments_lexer": "ipython3",
   "version": "3.8.1"
  }
 },
 "nbformat": 4,
 "nbformat_minor": 4
}

{
 "cells": [
  {
   "cell_type": "markdown",
   "metadata": {},
   "source": [
    "# EVAL SPEED\n",
    "\n",
    "- **for EFN see `tensorRT.py`** _(must most likely run in TensorRT docker container!)_"
   ]
  },
  {
   "cell_type": "code",
   "execution_count": null,
   "metadata": {},
   "outputs": [],
   "source": [
    "import datetime\n",
    "import numpy as np\n",
    "import os\n",
    "import glob\n",
    "import cv2\n",
    "\n",
    "import constants as c\n",
    "from bmog import BMOG"
   ]
  },
  {
   "cell_type": "code",
   "execution_count": null,
   "metadata": {},
   "outputs": [],
   "source": [
    "def imread_scaled(image_path, scale):\n",
    "    image = cv2.imread(image_path)\n",
    "    w,h,c = image.shape\n",
    "    w,h = int(w*scale), int(h*scale)\n",
    "    return cv2.resize(image, (h,w))"
   ]
  },
  {
   "cell_type": "code",
   "execution_count": null,
   "metadata": {},
   "outputs": [],
   "source": [
    "images = [imread_scaled(img_path, 1.0) for img_path in glob.glob(c.test_sequences_dir+\"/*/*.jpg\")]\n",
    "images_todo = len(images)\n",
    "print(\"Images to do: \", images_todo)\n",
    "\n",
    "bgs = BMOG(threshold_l=20, postprocessing_size=15)\n",
    "\n",
    "start = datetime.datetime.now()\n",
    "for img in images:\n",
    "     bgs.apply(img)\n",
    "    \n",
    "end = datetime.datetime.now()\n",
    "diff = end - start\n",
    "\n",
    "print(\"Skale = 1.0\")\n",
    "print(f\"Time for {images_todo} samples: {diff}\")\n",
    "seconds_for_all = int(diff.total_seconds())\n",
    "x_per_second = round(1 / (seconds_for_all / images_todo),2)\n",
    "print(\"Samples per second: \", x_per_second)"
   ]
  },
  {
   "cell_type": "code",
   "execution_count": null,
   "metadata": {},
   "outputs": [],
   "source": [
    "images = [imread_scaled(img_path, 0.5) for img_path in glob.glob(c.test_sequences_dir+\"/*/*.jpg\")]\n",
    "images_todo = len(images)\n",
    "print(\"Images to do: \", images_todo)\n",
    "\n",
    "bgs = BMOG(threshold_l=20, postprocessing_size=7)\n",
    "\n",
    "start = datetime.datetime.now()\n",
    "for img in images:\n",
    "     bgs.apply(img)\n",
    "    \n",
    "end = datetime.datetime.now()\n",
    "diff = end - start\n",
    "\n",
    "print(\"Skale = 0.5\")\n",
    "print(f\"Time for {images_todo} samples: {diff}\")\n",
    "seconds_for_all = int(diff.total_seconds())\n",
    "x_per_second = round(1 / (seconds_for_all / images_todo), 1)\n",
    "print(\"Samples per second: \", x_per_second)"
   ]
  }
 ],
 "metadata": {
  "kernelspec": {
   "display_name": "Python 3",
   "language": "python",
   "name": "python3"
  },
  "language_info": {
   "codemirror_mode": {
    "name": "ipython",
    "version": 3
   },
   "file_extension": ".py",
   "mimetype": "text/x-python",
   "name": "python",
   "nbconvert_exporter": "python",
   "pygments_lexer": "ipython3",
   "version": "3.8.1"
  }
 },
 "nbformat": 4,
 "nbformat_minor": 4
}

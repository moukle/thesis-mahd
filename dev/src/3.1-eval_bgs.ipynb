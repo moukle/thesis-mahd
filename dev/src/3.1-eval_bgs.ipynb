{
 "cells": [
  {
   "cell_type": "code",
   "execution_count": 1,
   "metadata": {},
   "outputs": [],
   "source": [
    "import math\n",
    "import glob\n",
    "import matplotlib.pyplot as plt\n",
    "import pickle\n",
    "import os\n",
    "import numpy as np\n",
    "import cv2\n",
    "from tqdm.notebook import tqdm\n",
    "\n",
    "import constants as c\n",
    "\n",
    "from bmog import BMOG\n",
    "from roi_extractor import regions_of_interest\n",
    "\n",
    "from collections import OrderedDict"
   ]
  },
  {
   "cell_type": "markdown",
   "metadata": {},
   "source": [
    "# Evaluation of BGS"
   ]
  },
  {
   "cell_type": "markdown",
   "metadata": {},
   "source": [
    "_Do BGS and dump as `pickle`_"
   ]
  },
  {
   "cell_type": "code",
   "execution_count": 2,
   "metadata": {},
   "outputs": [],
   "source": [
    "def imread_scaled(image_path, scale):\n",
    "    image = cv2.imread(image_path)\n",
    "    w,h,c = image.shape\n",
    "    w,h = int(w*scale), int(h*scale)\n",
    "    return cv2.resize(image, (h,w))\n",
    "\n",
    "\n",
    "def save_rois_by_bgs(image_dir, bmog_threshold_l, bmog_postprocessing_size, dilation, min_size, init_frames, image_scale=1.0):\n",
    "    found_rois_at_config = {}\n",
    "\n",
    "    total_amount_iters = len(glob.glob(image_dir+\"/*/*.jpg\"))\n",
    "    with tqdm(total=total_amount_iters) as pbar:\n",
    "        for sequence in glob.glob(image_dir+\"/*\"):\n",
    "            seq_name = os.path.basename(sequence)\n",
    "            rois_for_sequence = {}\n",
    "\n",
    "            bgs = BMOG(threshold_l=bmog_threshold_l, postprocessing_size=bmog_postprocessing_size)\n",
    "\n",
    "            # initialize distributions\n",
    "            for image_path in sorted(glob.glob(f'{sequence}/*.jpg'))[:init_frames]: \n",
    "                bgs.apply(imread_scaled(image_path, image_scale)) \n",
    "                pbar.update()\n",
    "\n",
    "            # do roi extraction\n",
    "            for image_path in sorted(glob.glob(f'{sequence}/*.jpg'))[init_frames:]:\n",
    "                image_name = os.path.basename(image_path)[:-4] \n",
    "                image = imread_scaled(image_path, image_scale)\n",
    "\n",
    "                #image = cv2.medianBlur(image, blur_kernel)\n",
    "                fg_mask = bgs.apply(image)\n",
    "\n",
    "                if dilation:\n",
    "                    fg_mask = cv2.dilate(fg_mask,(5,5),\n",
    "                                        iterations=dilation)\n",
    "\n",
    "                rois = regions_of_interest(fg_mask,\n",
    "                                        min_size=min_size,\n",
    "                                        max_size=c.max_size*image_scale,\n",
    "                                        aspect_ratio=c.aspect_ratio)\n",
    "\n",
    "                rois_for_sequence[image_name] = []\n",
    "                for roi in rois:\n",
    "                    x,y,x2,y2 = roi\n",
    "                    rois_for_sequence[image_name].append([x,y,x2,y2])\n",
    "                pbar.update()\n",
    "                #print(rois_for_sequence[image_name])\n",
    "            found_rois_at_config[seq_name] = rois_for_sequence\n",
    "    \n",
    "    \n",
    "    file_name = f'rois_threshold-{bmog_threshold_l}_postprocessing-{bmog_postprocessing_size}_dilation-{dilation}_min-{min_size}_scale-{image_scale}'\n",
    "    with open(f'{c.output_dir_bgs}/{file_name}.pickle', 'wb') as handle:\n",
    "        pickle.dump(found_rois_at_config, handle, protocol=4)"
   ]
  },
  {
   "cell_type": "markdown",
   "metadata": {},
   "source": [
    "_Get Ground Truth Annotations and dump as `pickle`_"
   ]
  },
  {
   "cell_type": "code",
   "execution_count": 3,
   "metadata": {},
   "outputs": [],
   "source": [
    "import xmltodict\n",
    "\n",
    "def bbs_from_xml(xml):\n",
    "    x = xmltodict.parse(xml)\n",
    "    bbs = []\n",
    "    \n",
    "    if 'object' in x['annotation']:  # check for bbs in annoataion file\n",
    "        for obj in x['annotation']['object']:\n",
    "            if type(obj) == str: # only one obj in annotation\n",
    "                obj = x['annotation']['object']\n",
    "                bbs.append(extract_information(obj))\n",
    "                break\n",
    "            bbs.append(extract_information(obj))\n",
    "    return bbs\n",
    "\n",
    "def extract_information(xml_object):\n",
    "    bndbox = xml_object['bndbox']\n",
    "    bnd_box = [\n",
    "            int(bndbox['xmin']),\n",
    "            int(bndbox['ymin']),\n",
    "            int(bndbox['xmax']),\n",
    "            int(bndbox['ymax']),\n",
    "            xml_object['name'],\n",
    "            ]\n",
    "    return bnd_box\n",
    "    \n",
    "def get_annotations_from_dir(annotation_dir):\n",
    "    annotations = {}\n",
    "    for file in glob.glob(f'{annotation_dir}/*.xml'):\n",
    "        bbs = bbs_from_xml(open(file, 'rb'))\n",
    "        file_base_name = (os.path.basename(file)[:-4])\n",
    "        annotations[file_base_name] = bbs\n",
    "    return annotations\n",
    "\n",
    "\n",
    "gt_bbs = {}\n",
    "for sequence in glob.glob(f'{c.bgs_sequences_dir}/*'):\n",
    "    seq_name = os.path.basename(sequence)\n",
    "    annotation_dir = os.path.join(c.bgs_annotation_dir, seq_name.partition('-')[0])\n",
    "    \n",
    "    gt_bbs[seq_name] = get_annotations_from_dir(annotation_dir)\n",
    "\n",
    "with open('../output/gt_bbs.pickle', 'wb') as handle:\n",
    "    pickle.dump(gt_bbs, handle, protocol=4)"
   ]
  },
  {
   "cell_type": "markdown",
   "metadata": {},
   "source": [
    "## Comparing predicted with GTs"
   ]
  },
  {
   "cell_type": "code",
   "execution_count": 4,
   "metadata": {},
   "outputs": [],
   "source": [
    "def bb_intersection_over_union(boxA, boxB):\n",
    "    # determine the (x, y)-coordinates of the intersection rectangle\n",
    "    xA = max(boxA[0], boxB[0])\n",
    "    yA = max(boxA[1], boxB[1])\n",
    "    xB = min(boxA[2], boxB[2])\n",
    "    yB = min(boxA[3], boxB[3])\n",
    "\n",
    "    # compute the area of intersection rectangle\n",
    "    interArea = max(0, xB - xA + 1) * max(0, yB - yA + 1)\n",
    "\n",
    "    # compute the area of both the prediction and ground-truth\n",
    "    # rectangles\n",
    "    boxAArea = (boxA[2] - boxA[0] + 1) * (boxA[3] - boxA[1] + 1)\n",
    "    boxBArea = (boxB[2] - boxB[0] + 1) * (boxB[3] - boxB[1] + 1)\n",
    "\n",
    "    # compute the intersection over union by taking the intersection\n",
    "    # area and dividing it by the sum of prediction + ground-truth\n",
    "    # areas - the interesection area\n",
    "    iou = interArea / float(boxAArea + boxBArea - interArea)\n",
    "\n",
    "    # return the intersection over union value\n",
    "    return iou\n",
    "\n",
    "\n",
    "def weird_division(n, d):\n",
    "    return n / d if d else 0\n",
    "\n",
    "\n",
    "def statistics_for_rois(_found, _gt, iou_min, scale=1.0):\n",
    "    iou_min_day, iou_night = iou_min\n",
    "\n",
    "    results = {}\n",
    "\n",
    "    # get every sequence of GTs\n",
    "    for seq_name in _gt.keys():\n",
    "        if 'day' in seq_name:\n",
    "            iou_for_seq = iou_min_day\n",
    "        else:\n",
    "            iou_for_seq = iou_night\n",
    "        \n",
    "        not_even_found = 0\n",
    "        should_have_been_found = 0\n",
    "        FOUND_IN_SEQ = 0\n",
    "        if seq_name in _found.keys():\n",
    "            not_even_found = 0\n",
    "            should_have_been_found = 0\n",
    "            FOUND_IN_SEQ = 0\n",
    "\n",
    "            # check every prediction for each frame\n",
    "            for file_name, gts in _gt[seq_name].items():\n",
    "                if file_name in _found[seq_name]:\n",
    "                    for gt in gts:\n",
    "                        gt = np.array(np.array(gt[0:4])*scale, dtype=int)\n",
    "\n",
    "                        should_have_been_found += 1\n",
    "                        found_intersecting_bb = False\n",
    "\n",
    "                        # compare annotated roi with found rois, and stop when match is found\n",
    "                        for found_roi in _found[seq_name][file_name]:\n",
    "                            iou = bb_intersection_over_union(gt, found_roi)\n",
    "                            if iou > iou_for_seq:\n",
    "                                found_intersecting_bb = True\n",
    "\n",
    "                        if not found_intersecting_bb:\n",
    "                            not_even_found += 1\n",
    "\n",
    "                    FOUND_IN_SEQ += len(_found[seq_name][file_name])\n",
    "        results[seq_name] = not_even_found, should_have_been_found, FOUND_IN_SEQ\n",
    "        #results_scale[seq_name] = 20, 100, 120\n",
    "    return results"
   ]
  },
  {
   "cell_type": "markdown",
   "metadata": {},
   "source": [
    "## Default BGS Parameters and Plot"
   ]
  },
  {
   "cell_type": "code",
   "execution_count": null,
   "metadata": {},
   "outputs": [],
   "source": [
    "save_rois_by_bgs(c.bgs_sequences_dir, bmog_threshold_l=35, bmog_postprocessing_size=9, dilation=0, min_size=32, init_frames=c.frames_for_bgs_init, image_scale=1.0)\n",
    "# and create copy 'bmog_renamed/rois-default.pickle'"
   ]
  },
  {
   "cell_type": "markdown",
   "metadata": {},
   "source": [
    "- get statistics for `BGS` and plot them _(its getting dirty)_"
   ]
  },
  {
   "cell_type": "code",
   "execution_count": 49,
   "metadata": {},
   "outputs": [
    {
     "data": {
      "image/png": "[encoded data removed]",
      "text/plain": [
       "<Figure size 432x288 with 1 Axes>"
      ]
     },
     "metadata": {
      "needs_background": "light"
     },
     "output_type": "display_data"
    }
   ],
   "source": [
    "with open('../output/gt_bbs.pickle', 'rb') as handle:\n",
    "    gt_bbs = pickle.load(handle)\n",
    "\n",
    "iou_min = [0.5, 0.3]\n",
    "    \n",
    "statics = {}\n",
    "\n",
    "with open(f\"{c.output_dir_bgs}_optimized/rois-default.pickle\", 'rb') as handle:\n",
    "    found_rois = pickle.load(handle)\n",
    "    statics = statistics_for_rois(found_rois, gt_bbs, iou_min=iou_min)\n",
    "\n",
    "fig, ax = plt.subplots()\n",
    "\n",
    "SEQS = len(found_rois.keys())\n",
    "_found_amount = []\n",
    "_not_found = []\n",
    "\n",
    "\n",
    "not_found = []\n",
    "total = []\n",
    "seqs = []\n",
    "been_found = []\n",
    "\n",
    "pos = 0\n",
    "for seq_name, res in sorted(statics.items()):\n",
    "    not_found.append(res[0])\n",
    "    total.append(res[1])\n",
    "    been_found.append(res[-1])\n",
    "    seqs.append(seq_name)\n",
    "\n",
    "    # beautify names\n",
    "    seq_name = seq_name.replace(\"_\", \" \").replace(\"-\", \" - \")[3:]\n",
    "    seq_name = seq_name.replace(\"day\", \"Tag\").replace(\"dawn\", \"Nacht\")\n",
    "    seq_name = seq_name.replace(\"orig\", \"Original\").replace(\"fog\", \"Nebel\").replace(\"rain\", \"Regen\")\n",
    "\n",
    "    plt.bar(pos, not_found[pos], label=seq_name)\n",
    "    pos+=1\n",
    "\n",
    "pos = np.arange(len(seqs))\n",
    "bar_width = 0.9\n",
    "\n",
    "plt.bar(pos, total, color='k', width=1, alpha=0.2, label=\"Insgesamt gesuchte Traktoren\")\n",
    "plt.plot(pos, been_found, label=\"Anzahl vorhergesagter ROIs\")\n",
    "\n",
    "#plt.title(f\"BGS Start Konfiguration\")\n",
    "plt.xticks([], [])\n",
    "plt.ylim(0, 150)\n",
    "plt.xlim(-1, SEQS)\n",
    "\n",
    "plt.ylabel(\"Nicht gefundene Traktoren\")\n",
    "plt.xlabel(\"Sequenzen\")\n",
    "\n",
    "plt.grid(axis='y', alpha=0.2, linestyle=\"-\")\n",
    "plt.legend(bbox_to_anchor=(1.04,0.5), loc=\"center left\")\n",
    "\n",
    "plt.savefig(f\"../visuals/bgs-start.png\", dpi=300, bbox_inches='tight')"
   ]
  },
  {
   "cell_type": "markdown",
   "metadata": {},
   "source": [
    "## BGS Optimization"
   ]
  },
  {
   "cell_type": "code",
   "execution_count": 43,
   "metadata": {},
   "outputs": [
    {
     "data": {
      "application/vnd.jupyter.widget-view+json": {
       "model_id": "87ada2b3fd0f4e2ca2c250fd5279f541",
       "version_major": 2,
       "version_minor": 0
      },
      "text/plain": [
       "HBox(children=(FloatProgress(value=0.0, max=315.0), HTML(value='')))"
      ]
     },
     "metadata": {},
     "output_type": "display_data"
    },
    {
     "name": "stdout",
     "output_type": "stream",
     "text": [
      "\n"
     ]
    },
    {
     "data": {
      "application/vnd.jupyter.widget-view+json": {
       "model_id": "5a577419b5a14fea9c9fb01f1923b6f1",
       "version_major": 2,
       "version_minor": 0
      },
      "text/plain": [
       "HBox(children=(FloatProgress(value=0.0, max=315.0), HTML(value='')))"
      ]
     },
     "metadata": {},
     "output_type": "display_data"
    },
    {
     "name": "stdout",
     "output_type": "stream",
     "text": [
      "\n"
     ]
    },
    {
     "data": {
      "application/vnd.jupyter.widget-view+json": {
       "model_id": "5df3412d91944cfeaed7019b3191e808",
       "version_major": 2,
       "version_minor": 0
      },
      "text/plain": [
       "HBox(children=(FloatProgress(value=0.0, max=315.0), HTML(value='')))"
      ]
     },
     "metadata": {},
     "output_type": "display_data"
    },
    {
     "name": "stdout",
     "output_type": "stream",
     "text": [
      "\n"
     ]
    },
    {
     "data": {
      "application/vnd.jupyter.widget-view+json": {
       "model_id": "4bc3e8861e964579bf7fb30af2f62a9e",
       "version_major": 2,
       "version_minor": 0
      },
      "text/plain": [
       "HBox(children=(FloatProgress(value=0.0, max=315.0), HTML(value='')))"
      ]
     },
     "metadata": {},
     "output_type": "display_data"
    },
    {
     "name": "stdout",
     "output_type": "stream",
     "text": [
      "\n"
     ]
    },
    {
     "data": {
      "application/vnd.jupyter.widget-view+json": {
       "model_id": "e20bb8fb4431453d8020909e25ba4b3b",
       "version_major": 2,
       "version_minor": 0
      },
      "text/plain": [
       "HBox(children=(FloatProgress(value=0.0, max=315.0), HTML(value='')))"
      ]
     },
     "metadata": {},
     "output_type": "display_data"
    },
    {
     "name": "stdout",
     "output_type": "stream",
     "text": [
      "\n"
     ]
    },
    {
     "data": {
      "application/vnd.jupyter.widget-view+json": {
       "model_id": "2ad972015d8849dbab27f2a46300a7ed",
       "version_major": 2,
       "version_minor": 0
      },
      "text/plain": [
       "HBox(children=(FloatProgress(value=0.0, max=315.0), HTML(value='')))"
      ]
     },
     "metadata": {},
     "output_type": "display_data"
    },
    {
     "name": "stdout",
     "output_type": "stream",
     "text": [
      "\n"
     ]
    }
   ],
   "source": [
    "save_rois_by_bgs(c.bgs_sequences_dir, bmog_threshold_l=35, bmog_postprocessing_size=9, dilation=0, min_size=15, init_frames=c.frames_for_bgs_init, image_scale=1.0) # minsize\n",
    "save_rois_by_bgs(c.bgs_sequences_dir, bmog_threshold_l=35, bmog_postprocessing_size=15, dilation=0, min_size=15, init_frames=c.frames_for_bgs_init, image_scale=1.0) # postprocessing\n",
    "save_rois_by_bgs(c.bgs_sequences_dir, bmog_threshold_l=35, bmog_postprocessing_size=15, dilation=15, min_size=15, init_frames=c.frames_for_bgs_init, image_scale=1.0) # dilate\n",
    "save_rois_by_bgs(c.bgs_sequences_dir, bmog_threshold_l=25, bmog_postprocessing_size=15, dilation=15, min_size=15, init_frames=c.frames_for_bgs_init, image_scale=1.0) # th 25\n",
    "save_rois_by_bgs(c.bgs_sequences_dir, bmog_threshold_l=20, bmog_postprocessing_size=15, dilation=15, min_size=15, init_frames=c.frames_for_bgs_init, image_scale=1.0) # th 20\n",
    "save_rois_by_bgs(c.bgs_sequences_dir, bmog_threshold_l=15, bmog_postprocessing_size=15, dilation=15, min_size=15, init_frames=c.frames_for_bgs_init, image_scale=1.0) # th 15\n",
    "\n",
    "# also rename and move to '../bmog_rename'"
   ]
  },
  {
   "cell_type": "code",
   "execution_count": 48,
   "metadata": {},
   "outputs": [
    {
     "data": {
      "image/png": "[encoded data removed]",
      "text/plain": [
       "<Figure size 432x288 with 1 Axes>"
      ]
     },
     "metadata": {
      "needs_background": "light"
     },
     "output_type": "display_data"
    }
   ],
   "source": [
    "with open('../output/gt_bbs.pickle', 'rb') as handle:\n",
    "    gt_bbs = pickle.load(handle)\n",
    "\n",
    "    \n",
    "iou_min = [0.4, 0.3]\n",
    "    \n",
    "statics = {}\n",
    "for rois_config in glob.glob(f\"{c.output_dir_bgs}_optimized/rois_*.pickle\"):\n",
    "    config = os.path.basename(rois_config)\n",
    "    \n",
    "    with open(rois_config, 'rb') as handle:\n",
    "        found_rois = pickle.load(handle)  \n",
    "        statics[config] = statistics_for_rois(found_rois, gt_bbs, iou_min=iou_min)\n",
    "\n",
    "\n",
    "\n",
    "fig, ax = plt.subplots()\n",
    "\n",
    "SEQS = len(found_rois.keys())\n",
    "i = 1\n",
    "\n",
    "_found_amount = []\n",
    "_not_found = []\n",
    "\n",
    "for config in sorted(statics.keys())[:]:\n",
    "    not_found = []\n",
    "    total = []\n",
    "    seqs = []\n",
    "    been_found = []\n",
    "\n",
    "    for seq_name, res in sorted(statics[config].items()):\n",
    "        if res[1]:\n",
    "            not_found.append(res[0])\n",
    "            total.append(res[1])\n",
    "            been_found.append(res[-1])\n",
    "            seqs.append(seq_name)\n",
    "\n",
    "    pos = np.arange(len(seqs)*(i-1), len(seqs)*i)\n",
    "    bar_width = 0.9\n",
    "\n",
    "    label = config.replace(\"_\", \", \").replace(\"-\", \": \")[6:][:-7].title()\n",
    "\n",
    "    plt.bar(pos, total, color='k', width=1, alpha=0.2, label=\"Gesuchte Traktoren\")\n",
    "    plt.bar(pos, not_found, label=label, width=bar_width)\n",
    "    plt.plot([pos[0],pos[-1]], [sum(not_found), sum(not_found)], \"--\", color=f'C{i-1}', label=\"Summe der nicht-gefunden Traktoren\")\n",
    "    plt.plot(pos, np.divide(been_found,1), \"ko:\", label=\"Vorhergesagte ROIs\", markersize=0.8, lw=0.5)\n",
    "\n",
    "    i +=1\n",
    "\n",
    "    _found_amount.append(sum(been_found))\n",
    "    _not_found.append(sum(not_found))\n",
    "\n",
    "plt.plot(np.arange(i-1)*SEQS+2.5, np.divide(_found_amount, 10), \":\", marker='o', markersize=3, color='k', label=\"Summe vorhergesagter ROIs / 10\", lw=1)\n",
    "\n",
    "#plt.title(f\"BGS Optimiziation\")\n",
    "plt.xticks([], [])\n",
    "plt.ylim(0, 250)\n",
    "plt.xlim(-1, (i-1)*SEQS)\n",
    "\n",
    "plt.xlabel(\"Sequenzen bei unterschiedlichen Parametern\")\n",
    "plt.ylabel(\"Nicht gefundene Traktoren\")\n",
    "\n",
    "plt.grid(axis='y', alpha=0.2, linestyle=\"-\")\n",
    "\n",
    "handles, labels = plt.gca().get_legend_handles_labels()\n",
    "by_label = OrderedDict(zip(labels, handles))\n",
    "\n",
    "plt.legend(by_label.values(), by_label.keys(),\n",
    "            loc='upper center', bbox_to_anchor=(0.5, -0.10),\n",
    "            fancybox=True, shadow=True, ncol=1)\n",
    "\n",
    "leg = ax.get_legend()\n",
    "leg.legendHandles[0].set_color('C7')\n",
    "leg.legendHandles[1].set_color('C7')\n",
    "\n",
    "plt.savefig(f\"../visuals/bgs-opti.png\", dpi=300, bbox_inches='tight')"
   ]
  },
  {
   "cell_type": "markdown",
   "metadata": {},
   "source": [
    "## Test different scales for `min-obj-size` determination"
   ]
  },
  {
   "cell_type": "code",
   "execution_count": 39,
   "metadata": {},
   "outputs": [
    {
     "data": {
      "application/vnd.jupyter.widget-view+json": {
       "model_id": "5fd3704d66d44eb48b5e94106e20d644",
       "version_major": 2,
       "version_minor": 0
      },
      "text/plain": [
       "HBox(children=(FloatProgress(value=0.0, max=315.0), HTML(value='')))"
      ]
     },
     "metadata": {},
     "output_type": "display_data"
    },
    {
     "name": "stdout",
     "output_type": "stream",
     "text": [
      "\n"
     ]
    },
    {
     "data": {
      "application/vnd.jupyter.widget-view+json": {
       "model_id": "5613676ca040449f909caad7acd38946",
       "version_major": 2,
       "version_minor": 0
      },
      "text/plain": [
       "HBox(children=(FloatProgress(value=0.0, max=315.0), HTML(value='')))"
      ]
     },
     "metadata": {},
     "output_type": "display_data"
    },
    {
     "name": "stdout",
     "output_type": "stream",
     "text": [
      "\n"
     ]
    },
    {
     "data": {
      "application/vnd.jupyter.widget-view+json": {
       "model_id": "dde5e74b01b043529c966ad85f6232cd",
       "version_major": 2,
       "version_minor": 0
      },
      "text/plain": [
       "HBox(children=(FloatProgress(value=0.0, max=315.0), HTML(value='')))"
      ]
     },
     "metadata": {},
     "output_type": "display_data"
    },
    {
     "name": "stdout",
     "output_type": "stream",
     "text": [
      "\n"
     ]
    },
    {
     "data": {
      "application/vnd.jupyter.widget-view+json": {
       "model_id": "4d468254d12e4398a6b94e9cf2a67b34",
       "version_major": 2,
       "version_minor": 0
      },
      "text/plain": [
       "HBox(children=(FloatProgress(value=0.0, max=315.0), HTML(value='')))"
      ]
     },
     "metadata": {},
     "output_type": "display_data"
    },
    {
     "name": "stdout",
     "output_type": "stream",
     "text": [
      "\n"
     ]
    },
    {
     "data": {
      "application/vnd.jupyter.widget-view+json": {
       "model_id": "d744b7f67ad04431ba5513deccd9aea5",
       "version_major": 2,
       "version_minor": 0
      },
      "text/plain": [
       "HBox(children=(FloatProgress(value=0.0, max=315.0), HTML(value='')))"
      ]
     },
     "metadata": {},
     "output_type": "display_data"
    },
    {
     "name": "stdout",
     "output_type": "stream",
     "text": [
      "\n"
     ]
    }
   ],
   "source": [
    "postprocessors = np.flip([13,13,11,9,7,7,5,5,5]) # must be odd, thus cannot simply scale them\n",
    "\n",
    "for scale, post in zip(np.around(np.linspace(0.1, 1, 9, endpoint=False), 1), postprocessors):\n",
    "    if scale < 0.6:\n",
    "        save_rois_by_bgs(c.bgs_sequences_dir, bmog_threshold_l=20,\n",
    "                         bmog_postprocessing_size=post,\n",
    "                         dilation=post,\n",
    "                         min_size=post,\n",
    "                         init_frames=c.frames_for_bgs_init,\n",
    "                         image_scale=scale)\n",
    "# and move to 'output/bmog_scaling' + number them!"
   ]
  },
  {
   "cell_type": "code",
   "execution_count": 41,
   "metadata": {},
   "outputs": [
    {
     "data": {
      "image/png": "[encoded data removed]",
      "text/plain": [
       "<Figure size 432x288 with 1 Axes>"
      ]
     },
     "metadata": {
      "needs_background": "light"
     },
     "output_type": "display_data"
    }
   ],
   "source": [
    "with open('../output/gt_bbs.pickle', 'rb') as handle:\n",
    "    gt_bbs = pickle.load(handle)\n",
    "\n",
    "\n",
    "iou_min = [0.4, 0.3]\n",
    "\n",
    "statics = {}\n",
    "for rois_config_path in glob.glob(f\"{c.output_dir_bgs}_scaling/*_rois_*.pickle\"):\n",
    "    config_name = os.path.basename(rois_config_path)\n",
    "    \n",
    "    # last param (-1), cut '.pickle', get number\n",
    "    scale = float(config_name.split('_')[-1][:-7].split('-')[-1])\n",
    "    \n",
    "    with open(rois_config_path, 'rb') as handle:\n",
    "        found_rois = pickle.load(handle)\n",
    "        statics[config_name] = statistics_for_rois(found_rois, gt_bbs, iou_min=iou_min, scale=scale)\n",
    "\n",
    "\n",
    "fig, ax = plt.subplots()\n",
    "\n",
    "SEQS = len(found_rois.keys())\n",
    "i = 1\n",
    "\n",
    "_found_amount = []\n",
    "_not_found = []\n",
    "\n",
    "for config_name in sorted(statics.keys())[:]:\n",
    "    not_found = []\n",
    "    total = []\n",
    "    seqs = []\n",
    "    been_found = []\n",
    "\n",
    "    for seq_name, res in sorted(statics[config_name].items()):\n",
    "        if res[1]:\n",
    "            not_found.append(res[0])\n",
    "            total.append(res[1])\n",
    "            been_found.append(res[-1])\n",
    "            seqs.append(seq_name)\n",
    "\n",
    "    pos = np.arange(len(seqs)*(i-1), len(seqs)*i)\n",
    "    bar_width = 0.9\n",
    "\n",
    "    label = config_name.replace(\"_\", \", \").replace(\"-\", \": \")[10:][:-7].title()\n",
    "\n",
    "    plt.bar(pos, total, color='k', width=1, alpha=0.2, label=\"Gesuchte Traktoren\")\n",
    "    plt.bar(pos, not_found, label=label, width=bar_width)\n",
    "    plt.plot([pos[0],pos[-1]], [sum(not_found), sum(not_found)], \"--\", color=f'C{i-1}', label=\"Insgesamt nicht gefunden\")\n",
    "    #plt.plot(pos, np.divide(been_found,1), \":\", label=\"Vorhergesagte ROIs\")\n",
    "\n",
    "    i +=1\n",
    "\n",
    "    _found_amount.append(sum(been_found))\n",
    "    _not_found.append(sum(not_found))\n",
    "\n",
    "plt.plot(np.arange(i-1)*SEQS+2.5, np.divide(_found_amount, 10), \":\", marker='o', markersize=3, color='k', label=\"Insgesamt vorhergesagte ROIs / 10\", lw=1)\n",
    "\n",
    "plt.title(f\"BGS - Bildskalierung\")\n",
    "plt.xticks([], [])\n",
    "plt.ylim(0, 250)\n",
    "plt.xlim(-1, (i-1)*SEQS)\n",
    "\n",
    "plt.grid(axis='y', alpha=0.2, linestyle=\"-\")\n",
    "\n",
    "handles, labels = plt.gca().get_legend_handles_labels()\n",
    "by_label = OrderedDict(zip(labels, handles))\n",
    "\n",
    "plt.legend(by_label.values(), by_label.keys(),\n",
    "            loc='upper center', bbox_to_anchor=(0.5, -0.05),\n",
    "            fancybox=True, shadow=True, ncol=1)\n",
    "\n",
    "leg = ax.get_legend()\n",
    "leg.legendHandles[0].set_color('C7')\n",
    "#leg.legendHandles[1].set_color('C7')\n",
    "\n",
    "plt.savefig(f\"../visuals/bgs-scaling.png\", dpi=300, bbox_inches='tight')"
   ]
  },
  {
   "cell_type": "code",
   "execution_count": null,
   "metadata": {},
   "outputs": [],
   "source": []
  },
  {
   "cell_type": "code",
   "execution_count": null,
   "metadata": {},
   "outputs": [],
   "source": []
  },
  {
   "cell_type": "code",
   "execution_count": null,
   "metadata": {},
   "outputs": [],
   "source": []
  },
  {
   "cell_type": "code",
   "execution_count": null,
   "metadata": {},
   "outputs": [],
   "source": []
  }
 ],
 "metadata": {
  "kernelspec": {
   "display_name": "Python 3",
   "language": "python",
   "name": "python3"
  },
  "language_info": {
   "codemirror_mode": {
    "name": "ipython",
    "version": 3
   },
   "file_extension": ".py",
   "mimetype": "text/x-python",
   "name": "python",
   "nbconvert_exporter": "python",
   "pygments_lexer": "ipython3",
   "version": "3.8.1"
  }
 },
 "nbformat": 4,
 "nbformat_minor": 4
}

{
 "cells": [
  {
   "cell_type": "code",
   "execution_count": 3,
   "metadata": {},
   "outputs": [],
   "source": [
    "import os\n",
    "import glob\n",
    "import numpy as np\n",
    "import pickle\n",
    "\n",
    "import constants as c\n",
    "\n",
    "from tensorflow.keras.preprocessing.image import ImageDataGenerator\n",
    "from metrics import f1, recall, precision\n",
    "from tensorflow.python.keras.losses import binary_crossentropy\n",
    "\n",
    "import efn\n",
    "from libs.efficientnet.efficientnet.tfkeras import preprocess_input\n",
    "\n",
    "import matplotlib.pyplot as plt\n",
    "from matplotlib.lines import Line2D\n",
    "from sklearn.metrics import precision_recall_curve\n",
    "from sklearn.metrics import average_precision_score\n",
    "\n",
    "from tqdm.notebook import tqdm\n",
    "from collections import OrderedDict\n",
    "\n",
    "import fnmatch\n",
    "from collections import defaultdict"
   ]
  },
  {
   "cell_type": "markdown",
   "metadata": {},
   "source": [
    "# Create curves!"
   ]
  },
  {
   "cell_type": "code",
   "execution_count": 4,
   "metadata": {},
   "outputs": [],
   "source": [
    "def load_data(img_shape, data_path):\n",
    "    datagenerator = ImageDataGenerator(\n",
    "        preprocessing_function=preprocess_input,\n",
    "        #rotation_range=20,\n",
    "        #horizontal_flip=True,\n",
    "        #vertical_flip=True\n",
    "    )\n",
    "\n",
    "    return datagenerator.flow_from_directory(\n",
    "        data_path,\n",
    "        target_size=img_shape,\n",
    "        batch_size=c.batch_size,\n",
    "        classes=c.labels,\n",
    "        color_mode='rgb',\n",
    "        class_mode='binary',\n",
    "        shuffle=False, # FALSE: Important for evaluation\n",
    "        follow_links=True,\n",
    "        seed=42)"
   ]
  },
  {
   "cell_type": "code",
   "execution_count": null,
   "metadata": {},
   "outputs": [],
   "source": []
  },
  {
   "cell_type": "code",
   "execution_count": 25,
   "metadata": {},
   "outputs": [],
   "source": [
    "def f1_score(precision, recall):\n",
    "    return 2*precision*recall / (precision+recall)\n",
    "\n",
    "\n",
    "def create_precision_recall_plots(model_name, y_true, y_pred, color):\n",
    "    precisions, recalls, thresholds = precision_recall_curve(y_true, y_pred, pos_label=1, sample_weight=None)\n",
    "    ap = round(average_precision_score(y_true, y_pred, pos_label=1, sample_weight=None)*100,1)\n",
    "\n",
    "    best_x,best_y, best_f1, best_threshold = 0,0,0,0\n",
    "    for p,r,t in zip(precisions, recalls, thresholds):\n",
    "        f1 = f1_score(p, r)\n",
    "        if f1 > best_f1:\n",
    "            best_f1 = f1\n",
    "            best_x = r\n",
    "            best_y = p\n",
    "            best_threshold = t\n",
    "\n",
    "    label_text = f'{model_name} (AP: {ap}): F1 {round(best_f1, 2)} - Threshold {str(round(best_threshold,2))}'\n",
    "    print(label_text)\n",
    "    plt.plot(recalls, precisions, \"-\", best_x, best_y, \"o\", label=label_text, color=f\"C{color}\")\n",
    "    #plt.plot(best_x, best_y, marker='o', label=f\"F1: {round(best_f1,2)} - Threshold: {round(best_threshold,2)}\")\n",
    "\n",
    "    plt.gca().spines['top'].set_visible(False)\n",
    "    plt.gca().spines['right'].set_visible(False)\n",
    "\n",
    "    plt.title(f'Precision-Recall Curve')\n",
    "    plt.ylabel('Precision')\n",
    "    plt.xlabel('Recall')\n",
    "    plt.legend(loc=\"lower right\")\n",
    "    plt.xlim([0.0, 1.05])\n",
    "    plt.ylim([0.0, 1.05])\n",
    "    \n",
    "    handles, labels = plt.gca().get_legend_handles_labels()\n",
    "    by_label = OrderedDict(zip(labels, handles))\n",
    "    plt.legend(by_label.values(), by_label.keys(),\n",
    "                loc='upper center', bbox_to_anchor=(0.5, -0.15),\n",
    "                fancybox=True, shadow=True, ncol=1)\n",
    "\n",
    "    plt.savefig(f\"../visuals/efn/{model_name}-pr_curve.png\", format='svg', dpi=300, bbox_inches='tight')"
   ]
  },
  {
   "cell_type": "code",
   "execution_count": null,
   "metadata": {},
   "outputs": [],
   "source": [
    "phi = -5\n",
    "\n",
    "model = efn.build_model(phi=-5, dropout=0)\n",
    "img_shape = model.input_shape[1:3]\n",
    "val_data = load_data(img_shape, c.val_dir)\n",
    "\n",
    "amount_of_models_to_evaluate = len(glob.glob(f\"{c.output_dir_models}/{phi}-*\"))\n",
    "with tqdm(total=amount_of_models_to_evaluate) as pbar:\n",
    "    \n",
    "    for efn_dir in glob.glob(f\"{c.output_dir_models}/{phi}-*\"):\n",
    "        config = efn_dir.split('/')[-1].split('-')[-1].title()\n",
    "        config = config.replace('Up1', 'Upsampled')\n",
    "        print(f\"Evaluating {config}...\")\n",
    "\n",
    "        # get latest checkpoint by time\n",
    "        latest_checkpoint = max(glob.iglob(efn_dir+\"/checkpoints/*\"), key=os.path.getctime)\n",
    "        model.load_weights(latest_checkpoint)\n",
    "\n",
    "        y_pred = model.predict_generator(val_data)\n",
    "        \n",
    "        with open(f\"{c.output_dir_models}/{config}_val_pred.pickle\", 'wb') as handle:\n",
    "            pickle.dump(y_pred, handle, protocol=4)\n",
    "        \n",
    "        pbar.update()"
   ]
  },
  {
   "cell_type": "code",
   "execution_count": null,
   "metadata": {},
   "outputs": [],
   "source": [
    "img_shape = (113,113)\n",
    "val_data = load_data(img_shape, c.val_dir)\n",
    "num = 0\n",
    "\n",
    "for config in sorted(glob.glob(f\"{c.output_dir_models}/*.pickle\")):\n",
    "    with open(config, 'rb') as handle:\n",
    "        y_pred = pickle.load(handle)\n",
    "        config = os.path.basename(config).split('_')[:-2]\n",
    "        config_name = ' '.join(config).replace(\"-\", \" - \").title()\n",
    "\n",
    "        create_precision_recall_plots(config_name, val_data.labels, y_pred, num)\n",
    "        num +=1"
   ]
  },
  {
   "cell_type": "markdown",
   "metadata": {},
   "source": [
    "## only $dropout=0.15$"
   ]
  },
  {
   "cell_type": "code",
   "execution_count": null,
   "metadata": {},
   "outputs": [],
   "source": [
    "def create_precision_recall_plots2(model_name, y_true, y_pred, color):\n",
    "    precisions, recalls, thresholds = precision_recall_curve(y_true, y_pred, pos_label=1, sample_weight=None)\n",
    "    ap = round(average_precision_score(y_true, y_pred, pos_label=1, sample_weight=None)*100,2)\n",
    "\n",
    "    best_x,best_y, best_f1, best_threshold = 0,0,0,0\n",
    "    for p,r,t in zip(precisions, recalls, thresholds):\n",
    "        f1 = f1_score(p, r)\n",
    "        if f1 > best_f1:\n",
    "            best_f1 = f1\n",
    "            best_x = r\n",
    "            best_y = p\n",
    "            best_threshold = t\n",
    "\n",
    "    label_text = f'{model_name} (AP: {ap}) - F1 {round(best_f1, 3)} @ Threshold {str(round(best_threshold,3))}'\n",
    "    print(label_text)\n",
    "    plt.plot(recalls, precisions, \"-\", best_x, best_y, \"o\", label=label_text, color=f\"C{color}\", lw=1)\n",
    "    #plt.plot(recalls, precisions, \"-\", label=label_text, color=f\"C{color}\", lw=2)\n",
    "    #plt.plot(best_x, best_y, marker='o', label=f\"F1: {round(best_f1,2)} - Threshold: {round(best_threshold,2)}\")\n",
    "\n",
    "    plt.gca().spines['top'].set_visible(False)\n",
    "    plt.gca().spines['right'].set_visible(False)\n",
    "\n",
    "    #plt.title(f'Precision-Recall Curve')\n",
    "    plt.ylabel('Precision')\n",
    "    plt.xlabel('Recall')\n",
    "    plt.legend(loc=\"lower right\")\n",
    "    plt.xlim([0.0, 1.05])\n",
    "    plt.ylim([0.85, 1.02])\n",
    "    \n",
    "    handles, labels = plt.gca().get_legend_handles_labels()\n",
    "    by_label = OrderedDict(zip(labels, handles))\n",
    "    plt.legend(by_label.values(), by_label.keys(),\n",
    "                loc='upper center', bbox_to_anchor=(0.5, -0.15),\n",
    "                fancybox=True, shadow=True, ncol=1)\n",
    "\n",
    "    plt.savefig(f\"../visuals/efn/efnN5-pr_curve2.png\", format='png', dpi=300, bbox_inches='tight')"
   ]
  },
  {
   "cell_type": "code",
   "execution_count": 27,
   "metadata": {},
   "outputs": [
    {
     "name": "stdout",
     "output_type": "stream",
     "text": [
      "Found 3412 images belonging to 2 classes.\n",
      "Default (AP: 92.6): F1 0.86 - Threshold 0.25\n",
      "Upsampled (AP: 88.5): F1 0.85 - Threshold 0.74\n",
      "Weighted (AP: 84.5): F1 0.83 - Threshold 0.77\n"
     ]
    },
    {
     "data": {
      "image/png": "[encoded data removed]",
      "text/plain": [
       "<Figure size 432x288 with 1 Axes>"
      ]
     },
     "metadata": {
      "needs_background": "light"
     },
     "output_type": "display_data"
    }
   ],
   "source": [
    "img_shape = (113,113)\n",
    "val_data = load_data(img_shape, c.val_dir)\n",
    "num = 0\n",
    "\n",
    "for config in sorted(glob.glob(f\"{c.output_dir_models}/dropout_0.15*.pickle\")):\n",
    "    with open(config, 'rb') as handle:\n",
    "        y_pred = pickle.load(handle)\n",
    "        config = os.path.basename(config)[13:].split('_')[:-2]\n",
    "        config_name = ' '.join(config).replace(\"-\", \" - \").title()\n",
    "\n",
    "        create_precision_recall_plots2(config_name, val_data.labels, y_pred, num)\n",
    "        num +=1"
   ]
  },
  {
   "cell_type": "markdown",
   "metadata": {},
   "source": [
    "# Evaluate smaller `EFN`"
   ]
  },
  {
   "cell_type": "code",
   "execution_count": null,
   "metadata": {},
   "outputs": [],
   "source": [
    "amount_of_models_to_evaluate = len(glob.glob(f\"{c.output_dir}/efn_scale/*-weighted/\"))\n",
    "with tqdm(total=amount_of_models_to_evaluate) as pbar:\n",
    "    for checkpoints in sorted(glob.glob(f\"../output/efn_scale/*/checkpoints/\")):\n",
    "        phi = -int(checkpoints.split('/')[3].split('-')[1]) # get phi by dirname\n",
    "        if phi > -6: continue\n",
    "\n",
    "        model = efn.build_model(phi=phi, dropout=0.15)\n",
    "        model_checkpoints = f\"{checkpoints}/*.hdf5\"\n",
    "        latest_checkpoint = max(glob.iglob(model_checkpoints), key=os.path.getctime)\n",
    "        model.load_weights(latest_checkpoint)\n",
    "        #model.summary()\n",
    "\n",
    "        img_shape = model.input_shape[1:3]\n",
    "        val_data = load_data(img_shape, c.val_dir)\n",
    "\n",
    "        print(f\"Evaluating {phi}...\")\n",
    "        y_pred = model.predict_generator(val_data)\n",
    "\n",
    "        with open(f\"{c.output_dir}/efn_scale/{phi}_val_pred.pickle\", 'wb') as handle:\n",
    "            pickle.dump(y_pred, handle, protocol=4)\n",
    "\n",
    "        pbar.update()"
   ]
  },
  {
   "cell_type": "code",
   "execution_count": null,
   "metadata": {},
   "outputs": [],
   "source": [
    "def f1_score(precision, recall):\n",
    "    return 2*precision*recall / (precision+recall)\n",
    "\n",
    "def create_precision_recall_plots3(model_name, y_true, y_pred, color):\n",
    "    precisions, recalls, thresholds = precision_recall_curve(y_true, y_pred, pos_label=1, sample_weight=None)\n",
    "    ap = round(average_precision_score(y_true, y_pred, pos_label=1, sample_weight=None)*100,1)\n",
    "\n",
    "    best_x,best_y, best_f1, best_threshold = 0,0,0,0\n",
    "    for p,r,t in zip(precisions, recalls, thresholds):\n",
    "        f1 = f1_score(p, r)\n",
    "        if f1 > best_f1:\n",
    "            best_f1 = f1\n",
    "            best_x = r\n",
    "            best_y = p\n",
    "            best_threshold = t\n",
    "\n",
    "    label_text = fr'$\\phi={model_name}$: AP={ap}, F1={round(best_f1, 2)}'\n",
    "    print(label_text, best_x, best_y, best_threshold)\n",
    "    plt.plot(recalls, precisions, \"-\", best_x, best_y, \"o\", label=label_text, color=f\"C{color}\", lw=1)\n",
    "    #plt.plot(recalls, precisions, \"-\", label=label_text, color=f\"C{color}\", lw=2)\n",
    "    #plt.plot(best_x, best_y, marker='o', label=f\"F1: {round(best_f1,2)} - Threshold: {round(best_threshold,2)}\")\n",
    "\n",
    "    plt.gca().spines['top'].set_visible(False)\n",
    "    plt.gca().spines['right'].set_visible(False)\n",
    "\n",
    "    #plt.title(f'Precision-Recall Curve')\n",
    "    plt.ylabel('Precision')\n",
    "    plt.xlabel('Recall')\n",
    "    plt.legend(loc=\"lower right\")\n",
    "    plt.xlim([0.0, 1.05])\n",
    "    plt.ylim([0.85, 1.02])\n",
    "    \n",
    "    handles, labels = plt.gca().get_legend_handles_labels()\n",
    "    by_label = OrderedDict(zip(labels, handles))\n",
    "    plt.legend(by_label.values(), by_label.keys(),\n",
    "                loc='upper center', bbox_to_anchor=(0.5, -0.15),\n",
    "                fancybox=True, shadow=True, ncol=3)\n",
    "\n",
    "    plt.savefig(f\"../visuals/efn/efn_scaled-pr_curve.png\", format='png', dpi=300, bbox_inches='tight')"
   ]
  },
  {
   "cell_type": "code",
   "execution_count": null,
   "metadata": {},
   "outputs": [],
   "source": [
    "img_shape = (113,113)\n",
    "val_data = load_data(img_shape, c.val_dir)\n",
    "num = 0\n",
    "\n",
    "for phi in np.linspace(-5, -15, 11, dtype=int):\n",
    "    predictions = glob.glob(f\"{c.output_dir}/efn_scale/{phi}*.pickle\")[0]\n",
    "    with open(predictions, 'rb') as handle:\n",
    "        y_pred = pickle.load(handle)\n",
    "        \n",
    "        phi = int(predictions.split('/')[3].split('_')[0]) # get phi by dirname\n",
    "        \n",
    "        create_precision_recall_plots3(phi, val_data.labels, y_pred, num)\n",
    "        num +=1"
   ]
  }
 ],
 "metadata": {
  "kernelspec": {
   "display_name": "Python 3",
   "language": "python",
   "name": "python3"
  },
  "language_info": {
   "codemirror_mode": {
    "name": "ipython",
    "version": 3
   },
   "file_extension": ".py",
   "mimetype": "text/x-python",
   "name": "python",
   "nbconvert_exporter": "python",
   "pygments_lexer": "ipython3",
   "version": "3.8.1"
  }
 },
 "nbformat": 4,
 "nbformat_minor": 4
}

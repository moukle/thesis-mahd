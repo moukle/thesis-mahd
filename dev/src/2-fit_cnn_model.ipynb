{
 "cells": [
  {
   "cell_type": "markdown",
   "metadata": {},
   "source": [
    "# CNN in TF\n",
    "- Get EfficientNet \n",
    "    - inject general constructor\n",
    "    - "
   ]
  },
  {
   "cell_type": "code",
   "execution_count": null,
   "metadata": {},
   "outputs": [],
   "source": [
    "!git clone https://github.com/qubvel/efficientnet.git libs/efficientnet && \\\n",
    "    sed -i '6i\\EfficientNet   = inject_tfkeras_modules(model.EfficientNet)' libs/efficientnet/efficientnet/tfkeras.py && \\\n",
    "    sed -i '364 s/require_flatten=include_top/require_flatten=True/' libs/efficientnet/efficientnet/model.py"
   ]
  },
  {
   "cell_type": "markdown",
   "metadata": {},
   "source": [
    "- calculate base $\\phi$ for EFN"
   ]
  },
  {
   "cell_type": "code",
   "execution_count": null,
   "metadata": {},
   "outputs": [],
   "source": [
    "import numpy as np\n",
    "import glob\n",
    "import cv2\n",
    "\n",
    "import constants as c\n",
    "\n",
    "total_res = np.array([0,0,0])\n",
    "for img in glob.glob(f'{c.rois_sorted_dir}/*/agriculture/*.jpg'):\n",
    "    total_res += cv2.imread(img).shape\n",
    "    \n",
    "print(\"Average resolution: \", total_res/len(glob.glob(f'{c.rois_sorted_dir}/*/agriculture/*.jpg')))\n",
    "len(glob.glob(f'{c.rois_sorted_dir}/*/agriculture/*.jpg'))"
   ]
  },
  {
   "cell_type": "markdown",
   "metadata": {},
   "source": [
    "- create model builder depending on parametric $\\phi$ (see `./efn.py`)"
   ]
  },
  {
   "cell_type": "markdown",
   "metadata": {},
   "source": [
    "---"
   ]
  },
  {
   "cell_type": "code",
   "execution_count": null,
   "metadata": {},
   "outputs": [],
   "source": [
    "import os\n",
    "\n",
    "import efn\n",
    "from libs.efficientnet.efficientnet.tfkeras import preprocess_input\n",
    "     \n",
    "from metrics import f1, recall, precision\n",
    "\n",
    "import tensorflow as tf\n",
    "from tensorflow.keras.preprocessing.image import ImageDataGenerator\n",
    "from tensorflow.python.keras.losses import binary_crossentropy\n",
    "\n",
    "from tensorflow.keras.callbacks import TensorBoard, ModelCheckpoint, EarlyStopping\n",
    "from keras_contrib.callbacks.cyclical_learning_rate import CyclicLR\n",
    "\n",
    "import matplotlib.pyplot as plt\n",
    "import io"
   ]
  },
  {
   "cell_type": "markdown",
   "metadata": {},
   "source": [
    "- load data with data_generator"
   ]
  },
  {
   "cell_type": "code",
   "execution_count": null,
   "metadata": {},
   "outputs": [],
   "source": [
    "def load_data(img_shape, data_path):\n",
    "    datagenerator = ImageDataGenerator(\n",
    "        preprocessing_function=preprocess_input,\n",
    "        rotation_range=20,\n",
    "        horizontal_flip=True,\n",
    "        vertical_flip=True)\n",
    "\n",
    "    return datagenerator.flow_from_directory(\n",
    "        data_path,\n",
    "        target_size=img_shape,\n",
    "        batch_size=c.batch_size,\n",
    "        classes=c.labels,\n",
    "        color_mode='rgb',\n",
    "        class_mode='binary',\n",
    "        shuffle=True,\n",
    "        follow_links=True,\n",
    "        seed=42)"
   ]
  },
  {
   "cell_type": "markdown",
   "metadata": {},
   "source": [
    "- define callbacks for training"
   ]
  },
  {
   "cell_type": "code",
   "execution_count": null,
   "metadata": {},
   "outputs": [],
   "source": [
    "# creating checkpoints during traing\n",
    "def checkpoint_callback(model_path):\n",
    "    checkpoint_dir = os.path.join(model_path, \"checkpoints\")\n",
    "    checkpoint_name = os.path.join(\n",
    "        checkpoint_dir, \"fit-gen_epoch-{epoch:02d}_loss-{val_loss:.2f}.hdf5\")\n",
    "\n",
    "    if not os.path.exists(checkpoint_dir):\n",
    "        os.makedirs(checkpoint_dir)\n",
    "\n",
    "    return ModelCheckpoint(\n",
    "        checkpoint_name, monitor='val_loss', save_best_only=False)\n",
    "\n",
    "\n",
    "# logging training stuff\n",
    "def tensorboard_callback(model_path):\n",
    "    log_dir = os.path.join(model_path, \"logs\")\n",
    "\n",
    "    if not os.path.exists(log_dir):\n",
    "        os.makedirs(log_dir)\n",
    "\n",
    "    return TensorBoard(\n",
    "        log_dir=log_dir, histogram_freq=0,\n",
    "        write_graph=True, write_images=True, update_freq=\"batch\")\n",
    "\n",
    "\n",
    "# create LR plots and log them\n",
    "def save_lr_plots(model_path, history): \n",
    "    plot_path = os.path.join(model_path, \"logs\", \"plots\")\n",
    "    if not os.path.exists(plot_path): \n",
    "        os.makedirs(plot_path)\n",
    "\n",
    "    acc   = history['accuracy']\n",
    "    loss  = history['loss']\n",
    "    f1    = history['f1']\n",
    "    lr    = history['lr']\n",
    "\n",
    "    figure = plt.figure(figsize=(10,10))\n",
    "    # plt.plot(lr, vac, 'k-', label='Validation Accuracy', linewidth=0.5)\n",
    "    plt.plot(lr, acc, '-', label='Train Accuracy')\n",
    "    plt.plot(lr, f1, 'k--', label='F1 Score', linewidth=0.5)\n",
    "    plt.plot(lr, loss, '--', label='Train Loss')\n",
    "\n",
    "    plt.xticks(ticks=lr)\n",
    "    plt.setp(plt.gca().get_xticklabels(), rotation=45, ha=\"right\")\n",
    "    plt.ylabel('')\n",
    "    plt.xlabel('Learning Rate')\n",
    "    plt.legend()\n",
    "\n",
    "    file_writer = tf.summary.create_file_writer(plot_path)\n",
    "    with file_writer.as_default():\n",
    "        tf.summary.image(\"LR range test\", plot_to_image(figure), step=0)\n",
    "\n",
    "\n",
    "def plot_to_image(figure):\n",
    "    buf = io.BytesIO()\n",
    "    plt.savefig(buf, format='png', dpi=300)\n",
    "    plt.close(figure)\n",
    "    buf.seek(0)\n",
    "    image = tf.image.decode_png(buf.getvalue(), channels=4)\n",
    "    image = tf.expand_dims(image, 0)\n",
    "    return image\n",
    "\n",
    "\n",
    "# early stopping to prevent unneeded overfitting\n",
    "early_stop = EarlyStopping(monitor='val_loss', min_delta=0.0001, mode='min', verbose=1, patience=20, restore_best_weights=True)"
   ]
  },
  {
   "cell_type": "markdown",
   "metadata": {},
   "source": [
    "- model fit procedure"
   ]
  },
  {
   "cell_type": "code",
   "execution_count": null,
   "metadata": {},
   "outputs": [],
   "source": [
    "def model_fit(model, train, val, model_path, class_weight={0: 1, 1: 1}, max_lr, lr_test=False):\n",
    "    tensorboard = tensorboard_callback(model_path=model_path)\n",
    "    tensorboard.set_model(model)\n",
    "    checkpoint = checkpoint_callback(model_path=model_path)\n",
    "\n",
    "    epochs = c.epochs\n",
    "    steps_epoch = train.n / c.batch_size\n",
    "    if lr_test:\n",
    "        max_lr = 1\n",
    "        epochs = c.epochs_lr\n",
    "        step_size = int(train.n / c.batch_size * epochs)\n",
    "    else: step_size = int(steps_epoch * 5)\n",
    "    clr = CyclicLR(base_lr=0.0001, max_lr=max_lr,\n",
    "                   step_size=step_size, mode='triangular')\n",
    "    \n",
    "    model.compile(optimizer='SGD',\n",
    "                loss=binary_crossentropy,\n",
    "                metrics=['accuracy', recall, precision, f1])\n",
    "    \n",
    "    history = model.fit_generator(\n",
    "                generator=train,\n",
    "                validation_data=val,\n",
    "                epochs=epochs,\n",
    "                class_weight=class_weight,\n",
    "                callbacks=[clr, tensorboard, checkpoint, early_stop],\n",
    "                shuffle=True,\n",
    "                verbose=True\n",
    "            ).history\n",
    "    \n",
    "    if lr_test: save_lr_plots(model_path, history)"
   ]
  },
  {
   "cell_type": "markdown",
   "metadata": {},
   "source": [
    "## LEARNING RATE RANGE TEST"
   ]
  },
  {
   "cell_type": "code",
   "execution_count": null,
   "metadata": {},
   "outputs": [],
   "source": [
    "for phi in [-5]:\n",
    "    for dropout in np.linspace(0.1, 0.15, 3):\n",
    "        default_name = f\"{phi}-LR-dropout_{dropout}\"\n",
    "\n",
    "        model = efn.build_model(phi=phi, dropout=dropout)\n",
    "        model.summary()\n",
    "\n",
    "        input_shape = model.input_shape[1:3]\n",
    "\n",
    "        train = load_data(input_shape, c.train_dir)\n",
    "        train_up = load_data(input_shape, c.train_dir_up)\n",
    "\n",
    "        val = load_data(input_shape, c.val_dir)\n",
    "\n",
    "        # default\n",
    "        model = efn.build_model(phi=phi, dropout=dropout)\n",
    "        model_path = os.path.join(c.output_dir_models, default_name + \"-default\")\n",
    "        model_fit(model, train, val, model_path, max_lr=1.0, lr_test=True)\n",
    "        del model\n",
    "\n",
    "        # weighted loss\n",
    "        agrs = len(glob.glob(f'{c.train_dir}/agriculture/*.jpg'))\n",
    "        other = len(glob.glob(f'{c.train_dir}/other/*.jpg'))\n",
    "        class_weight = {0: 1.0, \n",
    "                        1: 1/ (agrs / (other+agrs))}\n",
    "\n",
    "        model = efn.build_model(phi=phi, dropout=dropout)\n",
    "        model_path = os.path.join(c.output_dir_models, default_name + \"-weighted\")\n",
    "        model_fit(model, train, val, model_path, class_weight, max_lr=1.0, lr_test=True)\n",
    "        del model\n",
    "\n",
    "        # upsampled\n",
    "        model = efn.build_model(phi=phi, dropout=dropout)\n",
    "        model_path = os.path.join(c.output_dir_models, default_name + \"-up\")\n",
    "        model_fit(model, train_up, val, model_path, max_lr=1.0, lr_test=True)\n",
    "        del model"
   ]
  },
  {
   "cell_type": "markdown",
   "metadata": {},
   "source": [
    "## TRAIN WITH SET MAX LR"
   ]
  },
  {
   "cell_type": "code",
   "execution_count": null,
   "metadata": {
    "scrolled": true
   },
   "outputs": [],
   "source": [
    "for phi in [-5]:\n",
    "    for dropout in np.linspace(0.1, 0.15, 3):\n",
    "        default_name = f\"{phi}-dropout_{dropout}\"\n",
    "\n",
    "        model = efn.build_model(phi=phi, dropout=dropout)\n",
    "        model.summary()\n",
    "\n",
    "        input_shape = model.input_shape[1:3]\n",
    "\n",
    "        train = load_data(input_shape, c.train_dir)\n",
    "        train_up = load_data(input_shape, c.train_dir_up)\n",
    "\n",
    "        val = load_data(input_shape, c.val_dir)\n",
    "\n",
    "        # default\n",
    "        max_lr = 0.1669\n",
    "        \n",
    "        model = efn.build_model(phi=phi, dropout=dropout)\n",
    "        model_path = os.path.join(c.output_dir, default_name + \"-default\")\n",
    "        model_fit(model, train, val, model_path, max_lr=max_lr)\n",
    "        del model\n",
    "        \n",
    "        # weighted loss\n",
    "        agrs = len(glob.glob(f'{c.train_dir}/agriculture/*.jpg'))\n",
    "        other = len(glob.glob(f'{c.train_dir}/other/*.jpg'))\n",
    "        class_weight = {0: 1.0, \n",
    "                        1: 1/ (agrs / (other+agrs))}\n",
    "        \n",
    "        max_lr = 0.2002\n",
    "\n",
    "        model = efn.build_model(phi=phi, dropout=dropout)\n",
    "        model_path = os.path.join(c.output_dir, default_name + \"-weighted\")\n",
    "        model_fit(model, train, val, model_path, class_weight, max_lr=max_lr)\n",
    "        del model\n",
    "\n",
    "        # upsampled\n",
    "        max_lr = 0.2673\n",
    "        \n",
    "        model = efn.build_model(phi=phi, dropout=dropout)\n",
    "        model_path = os.path.join(c.output_dir, default_name + \"-up\")\n",
    "        model_fit(model, train_up, val, model_path, max_lr=max_lr)\n",
    "        del model"
   ]
  },
  {
   "cell_type": "markdown",
   "metadata": {},
   "source": [
    "# Test lower $\\phi$s"
   ]
  },
  {
   "cell_type": "markdown",
   "metadata": {},
   "source": [
    "## Range Test"
   ]
  },
  {
   "cell_type": "code",
   "execution_count": null,
   "metadata": {},
   "outputs": [],
   "source": [
    "dropouts = np.around(np.linspace(0.05, 0.2, 15, endpoint=False), 2)\n",
    "\n",
    "for phi in np.arange(-15, -5):\n",
    "    dropout = dropouts[phi]\n",
    "    default_name = f\"{phi}-LR-dropout_{dropout}\"\n",
    "\n",
    "    model = efn.build_model(phi=phi, dropout=dropout)\n",
    "    model.summary()\n",
    "\n",
    "    input_shape = model.input_shape[1:3]\n",
    "\n",
    "    train = load_data(input_shape, c.train_dir)\n",
    "    val = load_data(input_shape, c.val_dir)\n",
    "\n",
    "    # weighted loss\n",
    "    agrs = len(glob.glob(f'{c.train_dir}/agriculture/*.jpg'))\n",
    "    other = len(glob.glob(f'{c.train_dir}/other/*.jpg'))\n",
    "    class_weight = {0: 1.0, \n",
    "                    1: 1/ (agrs / (other+agrs))}\n",
    "\n",
    "    model = efn.build_model(phi=phi, dropout=dropout)\n",
    "    model_path = os.path.join(c.output_dir_models, default_name + \"-weighted\")\n",
    "    model_fit(model, train, val, model_path, class_weight, max_lr=1.0, lr_test=True)\n",
    "    del model"
   ]
  },
  {
   "cell_type": "markdown",
   "metadata": {},
   "source": [
    "## Train full"
   ]
  },
  {
   "cell_type": "code",
   "execution_count": null,
   "metadata": {},
   "outputs": [],
   "source": [
    "dropouts = np.around(np.linspace(0.05, 0.2, 15, endpoint=False), 2)\n",
    "\n",
    "for phi in np.arange(-15, -5):\n",
    "    dropout = dropouts[phi]\n",
    "    default_name = f\"{phi}-dropout_{dropout}\"\n",
    "    model = efn.build_model(phi=phi, dropout=dropout)\n",
    "    model.summary()\n",
    "\n",
    "    input_shape = model.input_shape[1:3]\n",
    "\n",
    "    train = load_data(input_shape, c.train_dir)\n",
    "    val = load_data(input_shape, c.val_dir)\n",
    "\n",
    "    # weighted loss\n",
    "    agrs = len(glob.glob(f'{c.train_dir}/agriculture/*.jpg'))\n",
    "    other = len(glob.glob(f'{c.train_dir}/other/*.jpg'))\n",
    "    class_weight = {0: 1.0, \n",
    "                    1: 1/ (agrs / (other+agrs))}\n",
    "\n",
    "    max_lr = 0.2002\n",
    "\n",
    "    model = efn.build_model(phi=phi, dropout=dropout)\n",
    "    model_path = os.path.join(c.output_dir, default_name + \"-weighted\")\n",
    "    model_fit(model, train, val, model_path, class_weight, max_lr=max_lr)\n",
    "    del model"
   ]
  },
  {
   "cell_type": "code",
   "execution_count": null,
   "metadata": {},
   "outputs": [],
   "source": []
  },
  {
   "cell_type": "code",
   "execution_count": null,
   "metadata": {},
   "outputs": [],
   "source": []
  }
 ],
 "metadata": {
  "kernelspec": {
   "display_name": "Python 3",
   "language": "python",
   "name": "python3"
  },
  "language_info": {
   "codemirror_mode": {
    "name": "ipython",
    "version": 3
   },
   "file_extension": ".py",
   "mimetype": "text/x-python",
   "name": "python",
   "nbconvert_exporter": "python",
   "pygments_lexer": "ipython3",
   "version": "3.8.1"
  }
 },
 "nbformat": 4,
 "nbformat_minor": 4
}
